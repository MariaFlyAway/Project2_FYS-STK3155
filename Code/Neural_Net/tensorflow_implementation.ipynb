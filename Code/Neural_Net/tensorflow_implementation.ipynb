{
 "cells": [
  {
   "cell_type": "code",
   "execution_count": 53,
   "metadata": {},
   "outputs": [],
   "source": [
    "import numpy as np \n",
    "import matplotlib.pyplot as plt \n",
    "import tensorflow as tf\n",
    "import seaborn as sns\n",
    "\n",
    "from sklearn.model_selection import  train_test_split \n",
    "from sklearn.datasets import load_breast_cancer\n",
    "from sklearn.preprocessing import StandardScaler\n",
    "from sklearn.metrics import confusion_matrix\n",
    "from sklearn.pipeline import Pipeline\n",
    "from sklearn.base import BaseEstimator, ClassifierMixin"
   ]
  },
  {
   "cell_type": "markdown",
   "metadata": {},
   "source": [
    "We load in the data from sklearn, one-hot encode the labels and split the data into train and test datasets. "
   ]
  },
  {
   "cell_type": "code",
   "execution_count": 52,
   "metadata": {},
   "outputs": [],
   "source": [
    "np.random.seed(2024)\n",
    "\n",
    "# Loading in the data\n",
    "cancer = load_breast_cancer()\n",
    "\n",
    "X = cancer.data\n",
    "y = cancer.target\n",
    "\n",
    "# one-hot encoding the data\n",
    "y = tf.keras.utils.to_categorical(y)\n",
    "\n",
    "X_train, X_test, y_train, y_test = train_test_split(X, y, test_size=0.2, random_state=0)"
   ]
  },
  {
   "cell_type": "markdown",
   "metadata": {},
   "source": [
    "### Tensorflow model"
   ]
  },
  {
   "cell_type": "markdown",
   "metadata": {},
   "source": [
    "We create a model similar to the one implemented by hand, using tensorflow:"
   ]
  },
  {
   "cell_type": "code",
   "execution_count": 57,
   "metadata": {},
   "outputs": [],
   "source": [
    "def create_model():\n",
    "    model = tf.keras.Sequential()\n",
    "    model.add(tf.keras.layers.Input(shape=(30,)))                       # input layer\n",
    "    model.add(tf.keras.layers.Dense(50, activation='sigmoid'))          # hidden layer\n",
    "    model.add(tf.keras.layers.Dense(2, activation='softmax'))           # output layer\n",
    "\n",
    "    model.compile(optimizer=tf.keras.optimizers.SGD(learning_rate = 0.01,\n",
    "                                momentum=0.0,  \n",
    "                                name='SGD'), loss='categorical_crossentropy',\n",
    "                  metrics=['accuracy'])\n",
    "    \n",
    "    return model"
   ]
  },
  {
   "cell_type": "markdown",
   "metadata": {},
   "source": [
    "We create a class for wrapping the tensorflow-model in sklearn, so that we can easily use sklearn-related functionalities. This is done using BaseEstimator and ClassifierMixin."
   ]
  },
  {
   "cell_type": "code",
   "execution_count": 54,
   "metadata": {},
   "outputs": [],
   "source": [
    "class TFClassifier(BaseEstimator, ClassifierMixin):\n",
    "    def __init__(self, build_fn=None, epochs=10, batch_size=32, verbose=0):\n",
    "        self.build_fn = build_fn\n",
    "        self.epochs = epochs\n",
    "        self.batch_size = batch_size\n",
    "        self.verbose = verbose\n",
    "        self.model_ = None\n",
    "\n",
    "    def fit(self, X, y):\n",
    "        self.model_ = self.build_fn()\n",
    "        self.model_.fit(X, y, epochs=self.epochs, \n",
    "                        batch_size=self.batch_size, verbose=self.verbose)\n",
    "        return self\n",
    "    \n",
    "    def predict(self, X):\n",
    "        return np.argmax(self.model_.predict(X), axis=-1)\n",
    "    \n",
    "    def score(self, X, y):\n",
    "        _, accuracy = self.model_.evaluate(X, y, verbose=self.verbose)\n",
    "        return accuracy"
   ]
  },
  {
   "cell_type": "markdown",
   "metadata": {},
   "source": [
    "We use pipeline to first scale the data and then train the tensorflow-model. Then we fit the data and test the accuracy on the test-dataset."
   ]
  },
  {
   "cell_type": "code",
   "execution_count": 58,
   "metadata": {},
   "outputs": [
    {
     "name": "stdout",
     "output_type": "stream",
     "text": [
      "\u001b[1m4/4\u001b[0m \u001b[32m━━━━━━━━━━━━━━━━━━━━\u001b[0m\u001b[37m\u001b[0m \u001b[1m0s\u001b[0m 4ms/step \n",
      "test accuracy: 0.9649\n"
     ]
    }
   ],
   "source": [
    "pipeline = Pipeline([\n",
    "    ('scaler', StandardScaler()),\n",
    "    ('model', TFClassifier(build_fn=create_model, epochs=50, batch_size=10))\n",
    "])\n",
    "\n",
    "# getting data for confusion matrix\n",
    "pipeline.fit(X_train, y_train)\n",
    "y_pred = pipeline.predict(X_test)\n",
    "\n",
    "# Evauluate the model\n",
    "accuracy = pipeline.score(X_test, y_test)\n",
    "print(f'test accuracy: {accuracy:.4f}')"
   ]
  },
  {
   "cell_type": "markdown",
   "metadata": {},
   "source": [
    "We plot the confusion matrix for the data"
   ]
  },
  {
   "cell_type": "code",
   "execution_count": 59,
   "metadata": {},
   "outputs": [
    {
     "data": {
      "image/png": "[encoded data removed]",
      "text/plain": [
       "<Figure size 640x480 with 2 Axes>"
      ]
     },
     "metadata": {},
     "output_type": "display_data"
    }
   ],
   "source": [
    "# Calculating the confusion matrix\n",
    "cm = confusion_matrix(np.argmax(y_test, axis=-1), y_pred)\n",
    "\n",
    "# Plotting the confusion matrix\n",
    "ax = sns.heatmap(cm, \n",
    "            annot=True,\n",
    "            xticklabels=['Bening','Malignant'],\n",
    "            yticklabels=['Beningn','Malignant'])\n",
    "plt.ylabel('True label', fontsize=13)\n",
    "plt.title('Confusion Matrix', fontsize=17, pad=20, loc='center')\n",
    "ax.set(xlabel=\"\", ylabel=\"True label\")\n",
    "ax.xaxis.tick_top()\n",
    "\n",
    "plt.gca().figure.text(0.45, 0.05, 'Predicted label', ha='center', fontsize=13)\n",
    "plt.show()\n"
   ]
  }
 ],
 "metadata": {
  "kernelspec": {
   "display_name": "fysstk3155",
   "language": "python",
   "name": "python3"
  },
  "language_info": {
   "codemirror_mode": {
    "name": "ipython",
    "version": 3
   },
   "file_extension": ".py",
   "mimetype": "text/x-python",
   "name": "python",
   "nbconvert_exporter": "python",
   "pygments_lexer": "ipython3",
   "version": "3.10.13"
  }
 },
 "nbformat": 4,
 "nbformat_minor": 2
}
