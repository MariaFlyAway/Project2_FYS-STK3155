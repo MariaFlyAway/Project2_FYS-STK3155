{
 "cells": [
  {
   "cell_type": "code",
   "execution_count": 13,
   "metadata": {},
   "outputs": [],
   "source": [
    "import neural_net_without_autograd as NNC\n",
    "\n",
    "import matplotlib.pyplot as plt\n",
    "import numpy as np\n",
    "import pandas as pd \n",
    "import seaborn as sns\n",
    "\n",
    "from sklearn.model_selection import  GridSearchCV, KFold, train_test_split \n",
    "from sklearn.datasets import load_breast_cancer\n",
    "from sklearn.metrics import accuracy_score, confusion_matrix\n",
    "from sklearn.preprocessing import StandardScaler, MinMaxScaler\n",
    "from sklearn.pipeline import Pipeline"
   ]
  },
  {
   "cell_type": "code",
   "execution_count": 14,
   "metadata": {},
   "outputs": [],
   "source": [
    "def one_hot_encoder(input, labels):\n",
    "    targets = np.zeros((len(input), labels))  \n",
    "    for i, t in enumerate(input):\n",
    "        targets[i, t] = 1\n",
    "    \n",
    "    return targets"
   ]
  },
  {
   "cell_type": "code",
   "execution_count": 15,
   "metadata": {},
   "outputs": [
    {
     "name": "stdout",
     "output_type": "stream",
     "text": [
      "Epoch 0: Accuracy = 0.5736263736263736\n",
      "Train accuracy: 0.6374\n",
      "Test accuracy: 0.6228\n"
     ]
    }
   ],
   "source": [
    "np.random.seed(2024)\n",
    "\n",
    "# Loading in the data\n",
    "cancer = load_breast_cancer()\n",
    "X_train, X_test, y_train, y_test = train_test_split(cancer.data, cancer.target, test_size=0.2, random_state=0)\n",
    "\n",
    "# Define layer sizes and activations\n",
    "network_input_size =  30\n",
    "layer_output_sizes = [50, 2]\n",
    "activations = ['sigmoid', 'sigmoid']\n",
    "#activations = [NNC.sigmoid, NNC.sigmoid]\n",
    "\n",
    "\n",
    "pipeline = Pipeline([\n",
    "    ('scaler', MinMaxScaler()),\n",
    "    ('model', NNC.NeuralNet(network_input_size, layer_output_sizes, activations, epsilon=0.01, batch_size=10, epochs=100))\n",
    "])\n",
    "\n",
    "# getting data for confusion matrix\n",
    "pipeline.fit(X_train, one_hot_encoder(y_train, 2))\n",
    "y_pred = pipeline.predict_proba(X_test)\n",
    "\n",
    "# Evauluate the model\n",
    "accuracy = pipeline.score(X_train, y_train)\n",
    "print(f'Train accuracy: {accuracy:.4f}')\n",
    "\n",
    "accuracy = pipeline.score(X_test, y_test)\n",
    "print(f'Test accuracy: {accuracy:.4f}')"
   ]
  },
  {
   "cell_type": "code",
   "execution_count": 16,
   "metadata": {},
   "outputs": [
    {
     "data": {
      "image/png": "[encoded data removed]",
      "text/plain": [
       "<Figure size 640x480 with 2 Axes>"
      ]
     },
     "metadata": {},
     "output_type": "display_data"
    }
   ],
   "source": [
    "# Calculating the confusion matrix\n",
    "cm = confusion_matrix(y_test, np.argmax(y_pred, -1))\n",
    "\n",
    "# Plotting the confusion matrix\n",
    "ax = sns.heatmap(cm, \n",
    "            annot=True,\n",
    "            xticklabels=['Bening','Malignant'],\n",
    "            yticklabels=['Beningn','Malignant'])\n",
    "plt.ylabel('True label', fontsize=13)\n",
    "plt.title('Confusion Matrix', fontsize=17, pad=20, loc='center')\n",
    "ax.set(xlabel=\"\", ylabel=\"True label\")\n",
    "ax.xaxis.tick_top()\n",
    "\n",
    "plt.gca().figure.text(0.45, 0.05, 'Predicted label', ha='center', fontsize=13)\n",
    "plt.show()\n"
   ]
  },
  {
   "cell_type": "markdown",
   "metadata": {},
   "source": [
    "### Gridsearch"
   ]
  },
  {
   "cell_type": "code",
   "execution_count": 4,
   "metadata": {},
   "outputs": [
    {
     "name": "stdout",
     "output_type": "stream",
     "text": [
      "Fitting 10 folds for each of 4 candidates, totalling 40 fits\n",
      "Epoch 0: Accuracy = 0.6332518337408313\n",
      "Epoch 0: Accuracy = 0.3594132029339853\n",
      "Epoch 0: Accuracy = 0.36185819070904646\n",
      "Epoch 0: Accuracy = 0.3691931540342298\n",
      "Epoch 0: Accuracy = 0.36185819070904646\n",
      "Epoch 0: Accuracy = 0.36341463414634145\n",
      "Epoch 0: Accuracy = 0.3439024390243902\n",
      "Epoch 0: Accuracy = 0.6414634146341464\n",
      "Epoch 0: Accuracy = 0.6439024390243903\n",
      "Epoch 0: Accuracy = 0.36097560975609755\n",
      "Epoch 0: Accuracy = 0.3740831295843521\n",
      "Epoch 0: Accuracy = 0.5281173594132029\n",
      "Epoch 0: Accuracy = 0.33251833740831294\n",
      "Epoch 0: Accuracy = 0.5941320293398533\n",
      "Epoch 0: Accuracy = 0.36185819070904646\n",
      "Epoch 0: Accuracy = 0.6365853658536585\n",
      "Epoch 0: Accuracy = 0.6146341463414634\n",
      "Epoch 0: Accuracy = 0.6414634146341464\n",
      "Epoch 0: Accuracy = 0.35853658536585364\n",
      "Epoch 0: Accuracy = 0.36097560975609755\n",
      "Epoch 0: Accuracy = 0.5354523227383863\n",
      "Epoch 0: Accuracy = 0.4718826405867971\n",
      "Epoch 0: Accuracy = 0.6503667481662592\n",
      "Epoch 0: Accuracy = 0.6039119804400978\n",
      "Epoch 0: Accuracy = 0.2396088019559902\n",
      "Epoch 0: Accuracy = 0.6658536585365854\n",
      "Epoch 0: Accuracy = 0.6390243902439025\n",
      "Epoch 0: Accuracy = 0.6317073170731707\n",
      "Epoch 0: Accuracy = 0.573170731707317\n",
      "Epoch 0: Accuracy = 0.24146341463414633\n",
      "Epoch 0: Accuracy = 0.6234718826405868\n",
      "Epoch 0: Accuracy = 0.6014669926650367\n",
      "Epoch 0: Accuracy = 0.3374083129584352\n",
      "Epoch 0: Accuracy = 0.6528117359413202\n",
      "Epoch 0: Accuracy = 0.3960880195599022\n",
      "Epoch 0: Accuracy = 0.8097560975609757\n",
      "Epoch 0: Accuracy = 0.4658536585365854\n",
      "Epoch 0: Accuracy = 0.6609756097560976\n",
      "Epoch 0: Accuracy = 0.7878048780487805\n",
      "Epoch 0: Accuracy = 0.6121951219512195\n",
      "Epoch 0: Accuracy = 0.6373626373626373\n",
      "-0.683768115942029\n",
      "{'model__epsilon': 0.1}\n"
     ]
    }
   ],
   "source": [
    "k_folds = KFold(n_splits=10)\n",
    "\n",
    "pipeline = Pipeline([\n",
    "    ('scaler', MinMaxScaler()),\n",
    "    ('model', NNC.NeuralNet(network_input_size, layer_output_sizes, activations, batch_size=10, epochs=100))\n",
    "])\n",
    "param_grid = {\n",
    "    'model__epsilon': np.logspace(-4, -1, 4),\n",
    "}\n",
    "\n",
    "grid_search = GridSearchCV(estimator=pipeline,\n",
    "                  param_grid=param_grid,\n",
    "                  scoring='accuracy',\n",
    "                  cv=k_folds,\n",
    "                  verbose=1,\n",
    "                  n_jobs=1)\n",
    "gs = grid_search.fit(X_train, y_train)\n",
    "print(-gs.best_score_)\n",
    "print(gs.best_params_)"
   ]
  }
 ],
 "metadata": {
  "kernelspec": {
   "display_name": "fysstk3155",
   "language": "python",
   "name": "python3"
  },
  "language_info": {
   "codemirror_mode": {
    "name": "ipython",
    "version": 3
   },
   "file_extension": ".py",
   "mimetype": "text/x-python",
   "name": "python",
   "nbconvert_exporter": "python",
   "pygments_lexer": "ipython3",
   "version": "3.12.7"
  }
 },
 "nbformat": 4,
 "nbformat_minor": 2
}
