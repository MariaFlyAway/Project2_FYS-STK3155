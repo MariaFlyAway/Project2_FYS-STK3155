{
 "cells": [
  {
   "cell_type": "code",
   "execution_count": 1,
   "metadata": {},
   "outputs": [],
   "source": [
    "import neural_net_without_autograd as NNC\n",
    "import numpy as np\n",
    "import matplotlib.pyplot as plt\n",
    "\n",
    "from sklearn import datasets\n",
    "from sklearn.metrics import accuracy_score\n",
    "from sklearn.model_selection import train_test_split"
   ]
  },
  {
   "cell_type": "markdown",
   "metadata": {},
   "source": [
    "This file uses our neural network implementation to classify the MNIST digits dataset as a check of the performance of oyr model."
   ]
  },
  {
   "cell_type": "code",
   "execution_count": 4,
   "metadata": {},
   "outputs": [],
   "source": [
    "# ensure the same random numbers appear every time\n",
    "np.random.seed(0)\n",
    "\n",
    "digits = datasets.load_digits()\n",
    "\n",
    "# define inputs and labels\n",
    "inputs = digits.images\n",
    "labels = digits.target"
   ]
  },
  {
   "cell_type": "code",
   "execution_count": 3,
   "metadata": {},
   "outputs": [
    {
     "name": "stdout",
     "output_type": "stream",
     "text": [
      "Epoch 0: Accuracy = 0.6457898399443285\n",
      "Train accuracy: 0.9993041057759221\n",
      "Test accuracy: 0.9444444444444444\n",
      "0.9444444444444444\n"
     ]
    }
   ],
   "source": [
    "X_train, X_test, y_train, y_test = train_test_split(inputs, labels, test_size=0.2)\n",
    "\n",
    "network_input_size = X_train.shape[1]\n",
    "layer_output_sizes = [50, 10]\n",
    "activations = ['sigmoid', 'softmax']\n",
    "\n",
    "nn = NNC.NeuralNet(network_input_size, \n",
    "                layer_output_sizes, \n",
    "                activations, \n",
    "                loss_fn='cross_entropy', \n",
    "                epsilon=0.01, \n",
    "                epochs=100, \n",
    "                batch_size=16)\n",
    "nn.fit(X_train, y_train)\n",
    "\n",
    "predictions_train = nn.predict(X_train)\n",
    "predictions_test = nn.predict(X_test)\n",
    "print(f'Train accuracy: {accuracy_score(y_train, predictions_train)}')\n",
    "print(f'Test accuracy: {accuracy_score(y_test, predictions_test)}')\n",
    "\n",
    "print(nn.score(X_test, y_test))"
   ]
  },
  {
   "cell_type": "markdown",
   "metadata": {},
   "source": [
    "With 100 epochs and non-optimized parameters we're able to achive a test score of 0.944, which is a good sign."
   ]
  }
 ],
 "metadata": {
  "kernelspec": {
   "display_name": "fysstk3155",
   "language": "python",
   "name": "python3"
  },
  "language_info": {
   "codemirror_mode": {
    "name": "ipython",
    "version": 3
   },
   "file_extension": ".py",
   "mimetype": "text/x-python",
   "name": "python",
   "nbconvert_exporter": "python",
   "pygments_lexer": "ipython3",
   "version": "3.12.7"
  }
 },
 "nbformat": 4,
 "nbformat_minor": 2
}
