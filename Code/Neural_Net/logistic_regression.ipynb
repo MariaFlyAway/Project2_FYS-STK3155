{
 "cells": [
  {
   "cell_type": "code",
   "execution_count": 1,
   "metadata": {},
   "outputs": [],
   "source": [
    "import neural_net_without_autograd as NNC\n",
    "\n",
    "import matplotlib.pyplot as plt\n",
    "import numpy as np\n",
    "import pandas as pd \n",
    "import seaborn as sns\n",
    "\n",
    "from sklearn.model_selection import  GridSearchCV, KFold, train_test_split \n",
    "from sklearn.datasets import load_breast_cancer\n",
    "from sklearn.metrics import accuracy_score, confusion_matrix\n",
    "from sklearn.preprocessing import StandardScaler, MinMaxScaler\n",
    "from sklearn.pipeline import Pipeline"
   ]
  },
  {
   "cell_type": "code",
   "execution_count": 2,
   "metadata": {},
   "outputs": [],
   "source": [
    "np.random.seed(2024)\n",
    "\n",
    "# Loading in the data\n",
    "cancer = load_breast_cancer()\n",
    "X_train, X_test, y_train, y_test = train_test_split(cancer.data, cancer.target, test_size=0.2, random_state=0)\n",
    "y_train = y_train.reshape(-1, 1)\n",
    "y_test = y_test.reshape(-1, 1)"
   ]
  },
  {
   "cell_type": "code",
   "execution_count": 12,
   "metadata": {},
   "outputs": [
    {
     "name": "stdout",
     "output_type": "stream",
     "text": [
      "Epoch 0: Accuracy = 0.8373626373626374\n",
      "[1 1 1 1 1 1 1 1 0 1 0 1 1 1 1 1 0 1 1 1 1 1 0 0 0 1 1 1 0 1 1 0 1 0 1 1 1\n",
      " 1 1 0 1 0 1 0 1 0 0 1 1 0 1 0 0 0 1 1 1 1 1 1 0 1 1 1 1 0 0 1 1 0 1 1 1 1\n",
      " 0 1 1 0 0 1 1 0 0 1 1 0 1 1 0 0 0 1 1 1 0 1 1 1 1 1 0 1 0 1 0 1 0 1 0 1 1\n",
      " 1 1 0 1 0 1 1 1 0 1 1 1 0 1 1 0 0 1 0 1 0 1 0 0 0 0 1 1 1 0 1 0 1 0 1 0 0\n",
      " 1 1 1 1 1 0 1 1 1 1 1 1 1 0 1 1 1 0 1 1 1 1 1 1 0 1 0 1 1 0 1 0 0 1 0 0 1\n",
      " 1 0 1 1 1 0 1 1 1 1 1 0 0 1 1 1 1 0 0 1 1 1 1 0 1 1 0 1 1 0 1 0 1 1 1 1 0\n",
      " 0 1 1 1 0 1 0 0 1 1 1 0 1 0 1 1 0 1 1 0 0 1 1 1 0 0 1 1 0 1 1 1 0 1 0 1 0\n",
      " 0 0 0 1 1 1 1 1 0 0 1 1 1 1 0 1 1 0 1 1 0 0 0 0 1 1 0 1 1 1 0 0 1 1 1 1 1\n",
      " 0 0 0 1 0 0 1 1 1 1 1 1 0 1 1 1 0 1 1 0 0 1 0 1 0 0 1 1 1 1 1 0 0 0 1 1 0\n",
      " 0 1 1 0 1 0 0 1 0 1 1 1 1 1 1 1 0 0 1 1 1 0 1 1 1 1 0 1 0 0 0 1 0 1 0 1 0\n",
      " 0 1 1 1 1 1 1 1 1 0 0 0 0 0 1 1 1 1 1 1 1 0 1 0 1 1 1 1 1 0 0 0 1 0 1 1 0\n",
      " 0 0 0 0 0 0 0 1 0 1 0 1 1 0 0 1 0 1 1 1 1 0 1 1 0 1 1 1 0 0 1 1 1 0 1 1 0\n",
      " 1 1 1 0 1 0 0 0 1 1 1]\n",
      "Train accuracy: 0.9714\n",
      "Test accuracy: 0.9649\n"
     ]
    }
   ],
   "source": [
    "# Define layer sizes and activations\n",
    "network_input_size =  30\n",
    "layer_output_sizes = [2]\n",
    "activations = ['softmax']\n",
    "\n",
    "pipeline = Pipeline([\n",
    "    ('scaler', MinMaxScaler()),\n",
    "    ('model', NNC.NeuralNet(network_input_size, \n",
    "                            layer_output_sizes, \n",
    "                            activations, \n",
    "                            epsilon=0.1, \n",
    "                            batch_size=100, \n",
    "                            epochs=100, \n",
    "                            loss_fn='cross_entropy'))\n",
    "])\n",
    "\n",
    "# getting data for confusion matrix\n",
    "pipeline.fit(X_train, y_train)\n",
    "y_pred = pipeline.predict_proba(X_test)\n",
    "\n",
    "print(pipeline.predict(X_train))\n",
    "\n",
    "# Evauluate the model\n",
    "accuracy = pipeline.score(X_train, y_train)\n",
    "print(f'Train accuracy: {accuracy:.4f}')\n",
    "\n",
    "accuracy = pipeline.score(X_test, y_test)\n",
    "print(f'Test accuracy: {accuracy:.4f}')"
   ]
  },
  {
   "cell_type": "markdown",
   "metadata": {},
   "source": [
    "It seems to work very well with softmax, though this is not the canonical choice for binary classification. Still, it gives the best results, converging to about 97% accuracy in less than 100 epochs. Note for the report: Single layer NN is mathematically equiv to regression."
   ]
  },
  {
   "cell_type": "code",
   "execution_count": 20,
   "metadata": {},
   "outputs": [
    {
     "data": {
      "image/png": "[encoded data removed]",
      "text/plain": [
       "<Figure size 640x480 with 2 Axes>"
      ]
     },
     "metadata": {},
     "output_type": "display_data"
    }
   ],
   "source": [
    "# Calculating the confusion matrix\n",
    "cm = confusion_matrix(y_test, np.argmax(y_pred, -1))\n",
    "\n",
    "# Plotting the confusion matrix\n",
    "ax = sns.heatmap(cm, \n",
    "            annot=True,\n",
    "            xticklabels=['Bening','Malignant'],\n",
    "            yticklabels=['Beningn','Malignant'],\n",
    "            cmap='crest')\n",
    "plt.ylabel('True label', fontsize=13)\n",
    "#plt.title('Logistic regression', fontsize=17, pad=20, loc='center')\n",
    "ax.set(xlabel=\"\", ylabel=\"True label\")\n",
    "ax.xaxis.tick_top()\n",
    "\n",
    "plt.xlabel('Predicted label', fontsize=13)\n",
    "plt.show()\n"
   ]
  },
  {
   "cell_type": "code",
   "execution_count": null,
   "metadata": {},
   "outputs": [],
   "source": [
    "k_folds = KFold(n_splits=5)\n",
    "\n",
    "# Define layer sizes and activations\n",
    "network_input_size =  30\n",
    "#layer_output_sizes = [50, 2]\n",
    "#activations = ['relu', 'softmax']\n",
    "\n",
    "pipeline = Pipeline([\n",
    "    ('scaler', MinMaxScaler()),\n",
    "    ('model', NNC.NeuralNet(network_input_size, layer_output_sizes, activations, batch_size=10, epochs=500))\n",
    "])\n",
    "param_grid = {\n",
    "    'model__epsilon': np.logspace(-4, -1, 4),\n",
    "    'model__llambda': [0, 0.0001, 0.001, 0.01, 0.1],\n",
    "    'model__activations': [['sigmoid', 'softmax'], ['relu', 'softmax'], ['elu', 'softmax']],\n",
    "    'model__n_hidden': [[25, 2], [50, 2], [100, 2]]\n",
    "}\n",
    "\n",
    "grid_search = GridSearchCV(estimator=pipeline,\n",
    "                  param_grid=param_grid,\n",
    "                  scoring='accuracy',\n",
    "                  cv=k_folds,\n",
    "                  verbose=3,\n",
    "                  n_jobs=1)\n",
    "gs = grid_search.fit(X_train, y_train)\n",
    "print(gs.best_score_)\n",
    "print(gs.best_params_)"
   ]
  },
  {
   "cell_type": "code",
   "execution_count": 31,
   "metadata": {},
   "outputs": [],
   "source": [
    "class LogisticRegressionGD:\n",
    "    \"\"\"Gradient descent-based logistic regression classifier.\n",
    "\n",
    "    Parameters\n",
    "    ------------\n",
    "    eta : float\n",
    "      Learning rate (between 0.0 and 1.0)\n",
    "    n_iter : int\n",
    "      Passes over the training dataset.\n",
    "    random_state : int\n",
    "      Random number generator seed for random weight\n",
    "      initialization.\n",
    "\n",
    "\n",
    "    Attributes\n",
    "    -----------\n",
    "    w_ : 1d-array\n",
    "      Weights after training.\n",
    "    b_ : Scalar\n",
    "      Bias unit after fitting.\n",
    "    losses_ : list\n",
    "       Log loss function values in each epoch.\n",
    "\n",
    "    \"\"\"\n",
    "    def __init__(self, epsilon=0.01, epochs=50, random_state=1):\n",
    "        self.epsilon = epsilon\n",
    "        self.epochs = epochs\n",
    "        self.random_state = random_state\n",
    "\n",
    "    def fit(self, X, y):\n",
    "        \"\"\" Fit training data.\n",
    "\n",
    "        Parameters\n",
    "        ----------\n",
    "        X : {array-like}, shape = [n_examples, n_features]\n",
    "          Training vectors, where n_examples is the number of examples and\n",
    "          n_features is the number of features.\n",
    "        y : array-like, shape = [n_examples]\n",
    "          Target values.\n",
    "\n",
    "        Returns\n",
    "        -------\n",
    "        self : Instance of LogisticRegressionGD\n",
    "\n",
    "        \"\"\"\n",
    "        self.w = np.random.randn(X.shape[1])\n",
    "        self.b = np.random.randn(1)\n",
    "\n",
    "        for i in range(self.epochs):\n",
    "            predictions = self.forwardpropagation(X)\n",
    "            output = self.sigmoid(predictions)\n",
    "            errors = (-y.dot(np.log(output)) - (1 - y).dot(np.log(1 - output))) / X.shape[0]\n",
    "            self.w += self.epsilon * errors#X.T.dot(errors) / X.shape[0]\n",
    "            self.b += self.epsilon * errors\n",
    "            #loss = (-y.dot(np.log(output)) - (1 - y).dot(np.log(1 - output))) / X.shape[0]\n",
    "        return self\n",
    "\n",
    "    def forwardpropagation(self, X):\n",
    "        \"\"\"Calculate net input\"\"\"\n",
    "        return np.dot(X, self.w) + self.b\n",
    "\n",
    "    def sigmoid(self, z):\n",
    "        \"\"\"Compute logistic sigmoid activation\"\"\"\n",
    "        return 1. / (1. + np.exp(-np.clip(z, -250, 250)))\n",
    "\n",
    "    def predict(self, X):\n",
    "        \"\"\"Return class label after unit step\"\"\"\n",
    "        return np.where(self.sigmoid(self.forwardpropagation(X)) >= 0.5, 1, 0)"
   ]
  },
  {
   "cell_type": "code",
   "execution_count": 32,
   "metadata": {},
   "outputs": [
    {
     "name": "stdout",
     "output_type": "stream",
     "text": [
      "[0 0 0 0 0 0 0 0 0 0 0 0 0 0 0 0 0 0 0 0 0 0 0 0 0 0 0 0 0 0 0 0 0 0 0 0 0\n",
      " 0 0 0 0 0 0 0 0 0 0 0 0 0 0 0 0 0 0 0 0 0 0 0 0 0 0 0 0 0 0 0 0 0 0 0 0 0\n",
      " 0 0 0 0 0 0 0 0 0 0 0 0 0 0 0 0 0 0 0 0 0 0 0 0 0 0 0 0 0 0 0 0 0 0 0 0 0\n",
      " 0 0 0]\n",
      "[0 1 1 1 1 1 1 1 1 1 1 1 1 1 1 0 1 0 0 0 0 0 1 1 0 1 1 0 1 0 1 0 1 0 1 0 1\n",
      " 0 1 0 0 1 0 1 1 0 1 1 1 0 0 0 0 1 1 1 1 1 1 0 0 0 1 1 0 1 0 0 0 1 1 0 1 0\n",
      " 0 1 1 1 1 1 0 0 0 1 0 1 1 1 0 0 1 0 1 0 1 1 0 1 1 1 1 1 1 1 0 1 0 1 0 0 1\n",
      " 0 0 1]\n"
     ]
    },
    {
     "name": "stderr",
     "output_type": "stream",
     "text": [
      "C:\\Users\\maria\\AppData\\Local\\Temp\\ipykernel_24128\\3915260783.py:52: RuntimeWarning: divide by zero encountered in log\n",
      "  errors = (-y.dot(np.log(output)) - (1 - y).dot(np.log(1 - output))) / X.shape[0]\n"
     ]
    }
   ],
   "source": [
    "lrgd = LogisticRegressionGD(epsilon=0.3, epochs=1000, random_state=1)\n",
    "lrgd.fit(X_train,\n",
    "         y_train)\n",
    "\n",
    "print(lrgd.predict(X_test))\n",
    "\n",
    "print(y_test)"
   ]
  },
  {
   "cell_type": "code",
   "execution_count": null,
   "metadata": {},
   "outputs": [],
   "source": [
    "class LogisticRegressionSGD:\n",
    "    def __init__(self, epsilon=0.01, epochs=50, random_state=1):\n",
    "        self.epsilon = epsilon\n",
    "        self.epochs = epochs\n",
    "        self.random_state = random_state\n",
    "\n",
    "    def logistic_predictions(self, weights, inputs):\n",
    "        # Outputs probability of a label being true according to logistic model.\n",
    "        return sigmoid(np.dot(inputs, weights))\n",
    "    \n",
    "    def training_loss(self, weights):\n",
    "        # Training loss is the negative log-likelihood of the training labels.\n",
    "        preds = self.logistic_predictions(weights, inputs)\n",
    "        label_probabilities = preds * targets + (1 - preds) * (1 - targets)\n",
    "        return -np.sum(np.log(label_probabilities))\n",
    "    \n",
    "    training_gradient_fun = grad(training_loss)\n",
    "\n",
    "    def fit(self, X, y):\n",
    "        self.w = np.random.randn(X.shape[0])\n",
    "\n",
    "        for i in range(100):\n",
    "            self.w -= training_gradient_fun(weights) * 0.01\n",
    "\n",
    "def sigmoid(z):\n",
    "    \"\"\"Compute logistic sigmoid activation\"\"\"\n",
    "    return 1. / (1. + np.exp(-np.clip(z, -250, 250)))\n",
    "\n",
    "\n",
    "# Define a function that returns gradients of training loss using Autograd.\n",
    "\n",
    "\n",
    "# Optimize weights using gradient descent.\n",
    "weights = np.array([0.0, 0.0, 0.0])\n",
    "print(\"Initial loss:\", training_loss(weights))\n",
    "\n",
    "\n",
    "print(\"Trained loss:\", training_loss(weights))"
   ]
  }
 ],
 "metadata": {
  "kernelspec": {
   "display_name": "fysstk3155",
   "language": "python",
   "name": "python3"
  },
  "language_info": {
   "codemirror_mode": {
    "name": "ipython",
    "version": 3
   },
   "file_extension": ".py",
   "mimetype": "text/x-python",
   "name": "python",
   "nbconvert_exporter": "python",
   "pygments_lexer": "ipython3",
   "version": "3.12.4"
  }
 },
 "nbformat": 4,
 "nbformat_minor": 2
}
